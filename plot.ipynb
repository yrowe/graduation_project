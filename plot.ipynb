{
 "cells": [
  {
   "cell_type": "code",
   "execution_count": 1,
   "metadata": {
    "collapsed": true
   },
   "outputs": [],
   "source": [
    "from matplotlib import pyplot as plt\n",
    "%matplotlib inline"
   ]
  },
  {
   "cell_type": "code",
   "execution_count": 2,
   "metadata": {
    "collapsed": true
   },
   "outputs": [],
   "source": [
    "import numpy as np"
   ]
  },
  {
   "cell_type": "code",
   "execution_count": 3,
   "metadata": {
    "collapsed": true
   },
   "outputs": [],
   "source": [
    "x = np.random.random(20)"
   ]
  },
  {
   "cell_type": "code",
   "execution_count": 4,
   "metadata": {
    "collapsed": true
   },
   "outputs": [],
   "source": [
    "y = np.random.random(20)"
   ]
  },
  {
   "cell_type": "code",
   "execution_count": 5,
   "metadata": {},
   "outputs": [
    {
     "name": "stdout",
     "output_type": "stream",
     "text": [
      "[ 0.06571502  0.84365635  0.71193222  0.97217136  0.63515731  0.64798054\n",
      "  0.40751048  0.56672637  0.74491986  0.58974956  0.90010792  0.82440893\n",
      "  0.05855474  0.72830501  0.50742246  0.80688444  0.14339199  0.5471538\n",
      "  0.8112824   0.75730523]\n",
      "[ 0.50873402  0.76561749  0.03006959  0.88128632  0.74747437  0.34469984\n",
      "  0.60093356  0.18866291  0.10759092  0.40460353  0.13150678  0.89230248\n",
      "  0.59135228  0.00562506  0.92352621  0.5455531   0.13361719  0.42728864\n",
      "  0.81204249  0.3465628 ]\n"
     ]
    }
   ],
   "source": [
    "print(x)\n",
    "print(y)"
   ]
  },
  {
   "cell_type": "code",
   "execution_count": 6,
   "metadata": {
    "collapsed": true
   },
   "outputs": [],
   "source": [
    "label1 = []\n",
    "label2 = []"
   ]
  },
  {
   "cell_type": "code",
   "execution_count": 7,
   "metadata": {
    "collapsed": true
   },
   "outputs": [],
   "source": [
    "for i in range(len(x)):\n",
    "    if (y[i] > x[i]+0.1):\n",
    "        label1.append((x[i],y[i]))\n",
    "    elif (y[i] < x[i]-0.1):\n",
    "        label2.append((x[i],y[i]))"
   ]
  },
  {
   "cell_type": "code",
   "execution_count": 8,
   "metadata": {},
   "outputs": [
    {
     "name": "stdout",
     "output_type": "stream",
     "text": [
      "[(0.065715015889586725, 0.50873401928807316), (0.63515731158271882, 0.74747436596583228), (0.4075104753146277, 0.60093355655265013), (0.058554742975975294, 0.59135227819940905), (0.50742246450118567, 0.92352620874310154)]\n",
      "[(0.71193221969906817, 0.030069585931702836), (0.64798054127018567, 0.34469983618941447), (0.5667263679778618, 0.18866291121826639), (0.74491985784167281, 0.107590920851931), (0.58974955834674181, 0.40460352648887443), (0.90010791748528862, 0.13150677790814569), (0.72830500752329619, 0.0056250641202396645), (0.80688443680888966, 0.54555310054045991), (0.54715380494668475, 0.42728864297563451), (0.75730523190669929, 0.34656279668274814)]\n"
     ]
    }
   ],
   "source": [
    "print(label1)\n",
    "print(label2)"
   ]
  },
  {
   "cell_type": "code",
   "execution_count": 9,
   "metadata": {},
   "outputs": [
    {
     "data": {
      "text/plain": [
       "5"
      ]
     },
     "execution_count": 9,
     "metadata": {},
     "output_type": "execute_result"
    }
   ],
   "source": [
    "len(label1)"
   ]
  },
  {
   "cell_type": "code",
   "execution_count": 10,
   "metadata": {
    "collapsed": true
   },
   "outputs": [],
   "source": [
    "c1 = np.ones((len(label1),2))\n",
    "c2 = np.ones((len(label2),2))"
   ]
  },
  {
   "cell_type": "code",
   "execution_count": 11,
   "metadata": {
    "collapsed": true
   },
   "outputs": [],
   "source": [
    "for i in range(len(label1)):\n",
    "    c1[i] = label1[i]"
   ]
  },
  {
   "cell_type": "code",
   "execution_count": 12,
   "metadata": {
    "collapsed": true
   },
   "outputs": [],
   "source": [
    "for i in range(len(label2)):\n",
    "    c2[i] = label2[i]"
   ]
  },
  {
   "cell_type": "code",
   "execution_count": 13,
   "metadata": {
    "collapsed": true
   },
   "outputs": [],
   "source": [
    "x1 = [0,1]\n",
    "y1 = [0,1]"
   ]
  },
  {
   "cell_type": "code",
   "execution_count": 14,
   "metadata": {
    "collapsed": true
   },
   "outputs": [],
   "source": [
    "x2 = [0.1,1.0]\n",
    "y2 = [0, 0.9]\n",
    "\n",
    "x3 = [0, 0.9]\n",
    "y3 = [0.1,1]"
   ]
  },
  {
   "cell_type": "code",
   "execution_count": 18,
   "metadata": {},
   "outputs": [
    {
     "data": {
      "image/png": "[encoded data removed]",
      "text/plain": [
       "<matplotlib.figure.Figure at 0x1dc93dc7898>"
      ]
     },
     "metadata": {},
     "output_type": "display_data"
    }
   ],
   "source": [
    "plt.figure(figsize=(3,3))\n",
    "plt.scatter(c1[:,0], c1[:,1], marker = 'x', color = 'm', label='1', s = 30)\n",
    "plt.scatter(c2[:,0], c2[:,1], marker = 'o', color = 'r', label='1', s = 15)\n",
    "plt.plot(x1,y1,'b')\n",
    "plt.plot(x2,y2,'b--')\n",
    "plt.plot(x3,y3,'b--')\n",
    "plt.axis(\"equal\")\n",
    "plt.show()"
   ]
  },
  {
   "cell_type": "code",
   "execution_count": null,
   "metadata": {
    "collapsed": true
   },
   "outputs": [],
   "source": []
  }
 ],
 "metadata": {
  "kernelspec": {
   "display_name": "Python 3",
   "language": "python",
   "name": "python3"
  },
  "language_info": {
   "codemirror_mode": {
    "name": "ipython",
    "version": 3
   },
   "file_extension": ".py",
   "mimetype": "text/x-python",
   "name": "python",
   "nbconvert_exporter": "python",
   "pygments_lexer": "ipython3",
   "version": "3.6.3"
  }
 },
 "nbformat": 4,
 "nbformat_minor": 2
}
