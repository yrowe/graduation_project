{
 "cells": [
  {
   "cell_type": "code",
   "execution_count": 1,
   "metadata": {
    "collapsed": true
   },
   "outputs": [],
   "source": [
    "import os\n",
    "import re"
   ]
  },
  {
   "cell_type": "code",
   "execution_count": 2,
   "metadata": {
    "collapsed": true
   },
   "outputs": [],
   "source": [
    "path = './pos'\n",
    "bbxPath = './annotations/'\n",
    "savePath = './save/'\n",
    "imgName = []\n",
    "allName = os.listdir(path)\n",
    "for fileName in allName:\n",
    "    if not 'bike' in fileName:\n",
    "        imgName.append(fileName)"
   ]
  },
  {
   "cell_type": "code",
   "execution_count": 20,
   "metadata": {},
   "outputs": [],
   "source": [
    "#mkdir save\n",
    "if not os.path.exists('./save'):\n",
    "    os.mkdir('./save')"
   ]
  },
  {
   "cell_type": "code",
   "execution_count": null,
   "metadata": {
    "collapsed": true,
    "scrolled": false
   },
   "outputs": [],
   "source": [
    "for fileName in imgName:\n",
    "    name = fileName.split('.')[0]\n",
    "    txtName = bbxPath + name + '.txt'\n",
    "    saveName = savePath + name + '.txt'\n",
    "#    print(txtName)\n",
    "#    break\n",
    "    with open(txtName) as f:\n",
    "        txt = ''\n",
    "        for line in f.readlines():\n",
    "            if 'Image size (X x Y x C) : ' in line:\n",
    "                num = re.findall('\\d+',line)\n",
    "                txt = num[0] + ' ' + num[1] + '\\n'\n",
    "                x = int(num[0])\n",
    "                y = int(num[1])\n",
    "            if 'Bounding box for' in line:\n",
    "                tmp = line.split(':')[-1]\n",
    "                tmp = tmp.replace(' ','')\n",
    "                num = re.findall('\\d+',tmp)\n",
    "                num = [int(i) for i in num]\n",
    "                txt += str(num[0]/x) + ' '\n",
    "                txt += str(num[1]/y) + ' '\n",
    "                txt += str(num[2]/x) + ' '\n",
    "                txt += str(num[3]/y) + '\\n' \n",
    "        with open(saveName,'w') as f:\n",
    "            f.write(txt)"
   ]
  },
  {
   "cell_type": "code",
   "execution_count": 4,
   "metadata": {
    "collapsed": true
   },
   "outputs": [],
   "source": [
    "#find out the longest number of person in an image, record this number as our label length\n",
    "allName = os.listdir(savePath)\n",
    "maxLen = 0\n",
    "for file in allName:\n",
    "    tmpLen = 0\n",
    "    with open(savePath+file) as f:\n",
    "        for line in f.readlines():\n",
    "            tmpLen += 1\n",
    "        if tmpLen > maxLen:\n",
    "            maxLen = tmpLen\n",
    "            maxName = file"
   ]
  },
  {
   "cell_type": "code",
   "execution_count": 6,
   "metadata": {},
   "outputs": [
    {
     "name": "stdout",
     "output_type": "stream",
     "text": [
      "13\n",
      "crop001616.txt\n"
     ]
    }
   ],
   "source": [
    "print(maxLen)\n",
    "print(maxName)"
   ]
  },
  {
   "cell_type": "code",
   "execution_count": 20,
   "metadata": {
    "collapsed": true
   },
   "outputs": [],
   "source": [
    "'''\n",
    "index = 0\n",
    "txt = ''\n",
    "txt += str(index) + '\\t4\\t5\\t'\n",
    "\n",
    "with open('./save/crop001001.txt','r') as f:\n",
    "    cnt = 1\n",
    "    line = f.readline()\n",
    "    #print(line)\n",
    "    h,w = line.strip().split(' ')\n",
    "    txt += str(h) + '\\t'\n",
    "    txt += str(w)\n",
    "    for line in f.readlines():\n",
    "        cnt += 1\n",
    "        Dot = line.strip().split(' ')\n",
    "        txt += '\\t1'\n",
    "        for tmp in Dot:\n",
    "            txt += '\\t' + tmp\n",
    "    while cnt < maxLen:\n",
    "        cnt += 1\n",
    "        txt += '\\t-1\\t0\\t0\\t0\\t0'\n",
    "    txt += '\\t'+ 'pos/crop001001.png'\n",
    "with open('./test.txt','w') as f:\n",
    "    f.write(txt)\n",
    "'''"
   ]
  },
  {
   "cell_type": "code",
   "execution_count": 21,
   "metadata": {},
   "outputs": [],
   "source": [
    "#add mode ,in order to avoid there is an existing train.lst\n",
    "if os.path.exists('./train.lst'):\n",
    "    os.remove('./train.lst')"
   ]
  },
  {
   "cell_type": "code",
   "execution_count": 22,
   "metadata": {},
   "outputs": [],
   "source": [
    "imgName = os.listdir(savePath)\n",
    "index = 0\n",
    "for img in imgName:\n",
    "    imgPath = savePath + img\n",
    "    with open(imgPath,'r') as f:\n",
    "        if index == 0:\n",
    "            txt = str(index) + '\\t4\\t5\\t'\n",
    "        else:\n",
    "            txt = '\\n' + str(index) + '\\t4\\t5\\t'          #to ensure there is no redundant empty line\n",
    "        index += 1\n",
    "        cnt = 1\n",
    "        line = f.readline()\n",
    "        h,w = line.strip().split(' ')\n",
    "        txt += str(h) + '\\t'\n",
    "        txt += str(w)\n",
    "        for line in f.readlines():\n",
    "            cnt += 1\n",
    "            Dot = line.strip().split(' ')\n",
    "            txt += '\\t1'\n",
    "            for tmp in Dot:\n",
    "                txt += '\\t' + tmp\n",
    "        while cnt < maxLen:\n",
    "            cnt += 1\n",
    "            txt += '\\t-1\\t0\\t0\\t0\\t0'\n",
    "        prefix_img = img.split('.')[0]\n",
    "        txt += '\\t' + prefix_img + '.png'\n",
    "    with open('./train.lst','a') as f:\n",
    "        f.write(txt)"
   ]
  },
  {
   "cell_type": "code",
   "execution_count": 9,
   "metadata": {},
   "outputs": [],
   "source": [
    "imgName = os.listdir(savePath)"
   ]
  },
  {
   "cell_type": "code",
   "execution_count": null,
   "metadata": {
    "collapsed": true
   },
   "outputs": [],
   "source": []
  }
 ],
 "metadata": {
  "kernelspec": {
   "display_name": "Python 3",
   "language": "python",
   "name": "python3"
  },
  "language_info": {
   "codemirror_mode": {
    "name": "ipython",
    "version": 3
   },
   "file_extension": ".py",
   "mimetype": "text/x-python",
   "name": "python",
   "nbconvert_exporter": "python",
   "pygments_lexer": "ipython3",
   "version": "3.6.3"
  }
 },
 "nbformat": 4,
 "nbformat_minor": 2
}
