{
 "cells": [
  {
   "cell_type": "code",
   "execution_count": 1,
   "metadata": {},
   "outputs": [],
   "source": [
    "from matplotlib import pyplot as plt"
   ]
  },
  {
   "cell_type": "code",
   "execution_count": 2,
   "metadata": {},
   "outputs": [],
   "source": [
    "%matplotlib inline"
   ]
  },
  {
   "cell_type": "code",
   "execution_count": 3,
   "metadata": {},
   "outputs": [],
   "source": [
    "import pandas as pd"
   ]
  },
  {
   "cell_type": "code",
   "execution_count": 4,
   "metadata": {},
   "outputs": [],
   "source": [
    "yolo_precision = pd.read_csv(\"F:/graduation_project/yolov3-from-scratch/eval/precision_voc.txt\", sep = ' ')\n",
    "ssd_precision = pd.read_csv(\"F:/graduation_project/ssd/eval/static\", sep = ' ')\n",
    "rcnn_precision = pd.read_csv(\"F:/graduation_project/fasterRCNN-from-scratch/evaluation/rcnn_overall.txt\", sep = ' ')"
   ]
  },
  {
   "cell_type": "code",
   "execution_count": 5,
   "metadata": {},
   "outputs": [
    {
     "data": {
      "text/html": [
       "<div>\n",
       "<style>\n",
       "    .dataframe thead tr:only-child th {\n",
       "        text-align: right;\n",
       "    }\n",
       "\n",
       "    .dataframe thead th {\n",
       "        text-align: left;\n",
       "    }\n",
       "\n",
       "    .dataframe tbody tr th {\n",
       "        vertical-align: top;\n",
       "    }\n",
       "</style>\n",
       "<table border=\"1\" class=\"dataframe\">\n",
       "  <thead>\n",
       "    <tr style=\"text-align: right;\">\n",
       "      <th></th>\n",
       "      <th>thresh</th>\n",
       "      <th>precision</th>\n",
       "      <th>recall</th>\n",
       "    </tr>\n",
       "  </thead>\n",
       "  <tbody>\n",
       "    <tr>\n",
       "      <th>0</th>\n",
       "      <td>0.2</td>\n",
       "      <td>0.938183</td>\n",
       "      <td>0.931328</td>\n",
       "    </tr>\n",
       "    <tr>\n",
       "      <th>1</th>\n",
       "      <td>0.3</td>\n",
       "      <td>0.933991</td>\n",
       "      <td>0.927206</td>\n",
       "    </tr>\n",
       "    <tr>\n",
       "      <th>2</th>\n",
       "      <td>0.4</td>\n",
       "      <td>0.925095</td>\n",
       "      <td>0.918351</td>\n",
       "    </tr>\n",
       "    <tr>\n",
       "      <th>3</th>\n",
       "      <td>0.5</td>\n",
       "      <td>0.905577</td>\n",
       "      <td>0.899220</td>\n",
       "    </tr>\n",
       "  </tbody>\n",
       "</table>\n",
       "</div>"
      ],
      "text/plain": [
       "   thresh  precision    recall\n",
       "0     0.2   0.938183  0.931328\n",
       "1     0.3   0.933991  0.927206\n",
       "2     0.4   0.925095  0.918351\n",
       "3     0.5   0.905577  0.899220"
      ]
     },
     "execution_count": 5,
     "metadata": {},
     "output_type": "execute_result"
    }
   ],
   "source": [
    "yolo_precision"
   ]
  },
  {
   "cell_type": "code",
   "execution_count": 6,
   "metadata": {},
   "outputs": [],
   "source": [
    "x1 = yolo_precision['thresh']\n",
    "y1 = yolo_precision['precision']\n",
    "\n",
    "x2 = ssd_precision['thresh']\n",
    "y2 = ssd_precision['precision']\n",
    "\n",
    "x3 = rcnn_precision['thresh']\n",
    "y3 = rcnn_precision['precision']"
   ]
  },
  {
   "cell_type": "code",
   "execution_count": 7,
   "metadata": {},
   "outputs": [],
   "source": [
    "x1 = x1.as_matrix()\n",
    "y1 = y1.as_matrix()\n",
    "\n",
    "x2 = x2.as_matrix()\n",
    "y2 = y2.as_matrix()\n",
    "\n",
    "x3 = x3.as_matrix()\n",
    "y3 = y3.as_matrix()"
   ]
  },
  {
   "cell_type": "code",
   "execution_count": 8,
   "metadata": {},
   "outputs": [],
   "source": [
    "# _*_ coding: utf-8 _*_"
   ]
  },
  {
   "cell_type": "code",
   "execution_count": 11,
   "metadata": {},
   "outputs": [],
   "source": [
    "import numpy as np\n",
    "x4 = x1.copy()\n",
    "y4 = np.array([0.3364, 0.2098, 0.1206, 0.0661])"
   ]
  },
  {
   "cell_type": "code",
   "execution_count": 13,
   "metadata": {
    "scrolled": false
   },
   "outputs": [
    {
     "data": {
      "image/png": "[encoded data removed]",
      "text/plain": [
       "<Figure size 640x400 with 1 Axes>"
      ]
     },
     "metadata": {},
     "output_type": "display_data"
    }
   ],
   "source": [
    "plt.figure(figsize=(8, 5), dpi=80)\n",
    "axes = plt.subplot(111)\n",
    "\n",
    "t1 = axes.scatter(x1, y1, c = 'r', marker = '>', s = 60)\n",
    "t2 = axes.scatter(x2, y2, c = 'b', marker = '*', s = 60)\n",
    "t3 = axes.scatter(x3, y3, c = 'g', marker = 'o', s= 60)\n",
    "t4 = axes.scatter(x4, y4, c = 'y', marker = '<', s = 60)\n",
    "\n",
    "plt.xlabel('thresh value')\n",
    "plt.ylabel('precision')\n",
    "axes.legend((t4, t1, t2, t3), ('hog+svm', 'yolov3', 'ssd', 'faster RCNN'))\n",
    "plt.savefig(\"overview.jpg\")"
   ]
  },
  {
   "cell_type": "code",
   "execution_count": 19,
   "metadata": {},
   "outputs": [
    {
     "data": {
      "text/plain": [
       "array([0.69997 , 0.556285, 0.417464, 0.302405])"
      ]
     },
     "execution_count": 19,
     "metadata": {},
     "output_type": "execute_result"
    }
   ],
   "source": [
    "y2"
   ]
  },
  {
   "cell_type": "code",
   "execution_count": 21,
   "metadata": {},
   "outputs": [],
   "source": [
    "import numpy as np"
   ]
  },
  {
   "cell_type": "code",
   "execution_count": 22,
   "metadata": {},
   "outputs": [],
   "source": [
    "x4 = x1.copy()\n",
    "y4 = np.array([0.3364, 0.2098, 0.1206, 0.0661])"
   ]
  },
  {
   "cell_type": "code",
   "execution_count": 49,
   "metadata": {},
   "outputs": [
    {
     "data": {
      "image/png": "[encoded data removed]",
      "text/plain": [
       "<Figure size 432x288 with 1 Axes>"
      ]
     },
     "metadata": {},
     "output_type": "display_data"
    }
   ],
   "source": [
    "plt.title('comparision')  \n",
    "plt.xlabel('iou')  \n",
    "plt.ylabel('precision')  \n",
    "plt.plot(x1,y1, 'r', label='yolov3')\n",
    "plt.plot(x2,y2, 'g', label='ssd')\n",
    "plt.plot(x3,y3, label='faster rcnn')\n",
    "plt.plot(x4,y4, label='hog+svm')\n",
    "plt.legend(bbox_to_anchor=[0.65, 0.5]) \n",
    "plt.savefig(\"overview.jpg\")"
   ]
  },
  {
   "cell_type": "code",
   "execution_count": 36,
   "metadata": {},
   "outputs": [],
   "source": [
    "plt.plot?"
   ]
  },
  {
   "cell_type": "code",
   "execution_count": null,
   "metadata": {},
   "outputs": [],
   "source": []
  }
 ],
 "metadata": {
  "kernelspec": {
   "display_name": "Python 3",
   "language": "python",
   "name": "python3"
  },
  "language_info": {
   "codemirror_mode": {
    "name": "ipython",
    "version": 3
   },
   "file_extension": ".py",
   "mimetype": "text/x-python",
   "name": "python",
   "nbconvert_exporter": "python",
   "pygments_lexer": "ipython3",
   "version": "3.6.2"
  }
 },
 "nbformat": 4,
 "nbformat_minor": 2
}
